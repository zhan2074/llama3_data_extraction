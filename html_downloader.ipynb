{
 "cells": [
  {
   "cell_type": "code",
   "execution_count": 2,
   "id": "2e1c1e4f-ae9b-497c-8f3c-4d1c7b226567",
   "metadata": {},
   "outputs": [
    {
     "name": "stdout",
     "output_type": "stream",
     "text": [
      "Webpage saved successfully.\n"
     ]
    }
   ],
   "source": [
    "import requests\n",
    "\n",
    "# Fetch the HTML content using requests\n",
    "url = \"https://www.sec.gov/Archives/edgar/data/200406/000020040621000057/jnj-20210704.htm\"\n",
    "headers = {'User-Agent': \"guido14zy@gmail.com\"}\n",
    "response = requests.get(url, headers=headers)\n",
    "\n",
    "# Check if the request was successful (status code 200)\n",
    "if response.status_code == 200:\n",
    "    # Save the webpage content to an HTML file\n",
    "    with open(\"jnj-20210704.html\", \"w\", encoding=\"utf-8\") as file:\n",
    "        file.write(response.text)\n",
    "    print(\"Webpage saved successfully.\")\n",
    "else:\n",
    "    print(f\"Failed to retrieve the webpage. Status code: {response.status_code}\")"
   ]
  },
  {
   "cell_type": "code",
   "execution_count": 5,
   "id": "980fd7ab-bd3d-4810-8598-00b1d7a3c2cd",
   "metadata": {},
   "outputs": [],
   "source": [
    "import os\n",
    "from pyhtml2pdf import converter"
   ]
  },
  {
   "cell_type": "code",
   "execution_count": 9,
   "id": "72a8987e-1fb4-466c-ae39-8f41973983a5",
   "metadata": {},
   "outputs": [],
   "source": [
    "# Define the path for the 'data' folder within the current working directory\n",
    "data_folder = os.path.join(os.getcwd(), 'data')"
   ]
  },
  {
   "cell_type": "code",
   "execution_count": 10,
   "id": "c4dff368-56a3-45a7-8bfc-35e7e99c3867",
   "metadata": {},
   "outputs": [],
   "source": [
    "# Define the path for the input HTML and output PDF within the 'data' folder\n",
    "html_path = os.path.abspath('jnj-20210704.html')\n",
    "pdf_path = os.path.join(data_folder, 'jnj-20210704.pdf')"
   ]
  },
  {
   "cell_type": "code",
   "execution_count": 8,
   "id": "fd49deb0-b41b-412c-8c06-81f46df529e9",
   "metadata": {},
   "outputs": [],
   "source": [
    "# Convert the HTML file to a PDF file in the specified location\n",
    "converter.convert(f'file:///{html_path}', pdf_path)"
   ]
  },
  {
   "cell_type": "code",
   "execution_count": null,
   "id": "53b6e124-c9b5-4bff-b5b1-6c0e2ed0827f",
   "metadata": {},
   "outputs": [],
   "source": []
  }
 ],
 "metadata": {
  "kernelspec": {
   "display_name": "Python 3 (ipykernel)",
   "language": "python",
   "name": "python3"
  },
  "language_info": {
   "codemirror_mode": {
    "name": "ipython",
    "version": 3
   },
   "file_extension": ".py",
   "mimetype": "text/x-python",
   "name": "python",
   "nbconvert_exporter": "python",
   "pygments_lexer": "ipython3",
   "version": "3.11.10"
  }
 },
 "nbformat": 4,
 "nbformat_minor": 5
}
